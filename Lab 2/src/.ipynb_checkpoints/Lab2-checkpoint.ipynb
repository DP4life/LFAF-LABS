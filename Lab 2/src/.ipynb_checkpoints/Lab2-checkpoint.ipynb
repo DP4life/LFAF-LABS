{
 "cells": [
  {
   "cell_type": "markdown",
   "id": "a42c649b",
   "metadata": {},
   "source": [
    "# Imports"
   ]
  },
  {
   "cell_type": "code",
   "execution_count": 4,
   "id": "58ef9333",
   "metadata": {},
   "outputs": [],
   "source": [
    "from matplotlib import pyplot as plt\n",
    "import random\n",
    "import re\n",
    "import string"
   ]
  },
  {
   "cell_type": "markdown",
   "id": "36db9344",
   "metadata": {},
   "source": [
    "# Grammar"
   ]
  },
  {
   "cell_type": "code",
   "execution_count": 5,
   "id": "e1f05c4c",
   "metadata": {},
   "outputs": [],
   "source": [
    "class Grammar:\n",
    "    \n",
    "    def __init__(self, rules):\n",
    "        self.rules = rules\n",
    "    \n",
    "    def check_string(self, string):\n",
    "        for i in range (len(string)):\n",
    "            if string[i] in self.rules.keys():\n",
    "                return \"false\"\n",
    "        return \"true\"\n",
    "    \n",
    "    def generate_string(self):\n",
    "        new_str = \"S\"\n",
    "        j = len(new_str) - 1\n",
    "        while (self.check_string(new_str) == \"false\"):\n",
    "            if new_str[j] in self.rules.keys():\n",
    "                new_str = new_str[0:j] + random.choice(self.rules[new_str[j]])\n",
    "                j = len(new_str) - 1\n",
    "        return new_str"
   ]
  },
  {
   "cell_type": "markdown",
   "id": "af925557",
   "metadata": {},
   "source": [
    "# Grammar Classifier Class"
   ]
  },
  {
   "cell_type": "code",
   "execution_count": 6,
   "id": "d6530319",
   "metadata": {},
   "outputs": [],
   "source": [
    "class GrammarClassifier:\n",
    "    \n",
    "    def is_regular_grammar(self, grammar):\n",
    "        \"\"\"\n",
    "        Check if a grammar is a regular grammar.\n",
    "        \"\"\"\n",
    "        for left in grammar:\n",
    "            for right in grammar[left]:\n",
    "                if len(left) > 1:\n",
    "                    return False\n",
    "                if re.search(r\"[A-Z]{2,}\", right):\n",
    "                    return False\n",
    "                if re.search(r\"[A-Z][a-z]*[A-Z]\", right):\n",
    "                    return False\n",
    "                if re.search(r\"^[a-z]*[A-Z]?[a-z]*$\", right):\n",
    "                    continue\n",
    "                if right == \"ε\":\n",
    "                    continue\n",
    "                return False\n",
    "        return True\n",
    "\n",
    "    def is_context_free_grammar(self, grammar):\n",
    "        \"\"\"\n",
    "        Check if a grammar is a context-free grammar.\n",
    "        \"\"\"\n",
    "        nonterminals = set(grammar.keys())\n",
    "        for left in grammar:\n",
    "            for right in grammar[left]:\n",
    "                if not re.match(r\"^([a-z]|[A-Z])+|ε$\", right):\n",
    "                    if len(left) != 1 or not left.isupper():\n",
    "                        return False\n",
    "                    for symbol in right:\n",
    "                        if symbol.isupper() and symbol not in nonterminals:\n",
    "                            return False\n",
    "        return True\n",
    "\n",
    "    def is_context_sensitive_grammar(self, grammar):\n",
    "        \"\"\"\n",
    "        Check if a grammar is a context-sensitive grammar.\n",
    "        \"\"\"\n",
    "        for left in grammar:\n",
    "            for right in grammar[left]:\n",
    "                if len(left) < len(right):\n",
    "                    continue\n",
    "                if len(left) == len(right) and left.isupper():\n",
    "                    continue\n",
    "                nonterminals = set(grammar.keys())\n",
    "                for symbol in right:\n",
    "                    if symbol.isupper() and symbol not in nonterminals:\n",
    "                        return False\n",
    "        return True\n",
    "\n",
    "    def is_unrestricted_grammar(self, grammar):\n",
    "        \"\"\"\n",
    "        Check if a grammar is an unrestricted grammar.\n",
    "        \"\"\"\n",
    "        return True\n",
    "\n",
    "\n",
    "    def check_grammar(self, grammar):\n",
    "        if self.is_regular_grammar(grammar):\n",
    "            return \"Type 3: The grammar is a regular grammar.\"\n",
    "        elif self.is_context_free_grammar(grammar):\n",
    "            return \"Type 2: The grammar is a context-free grammar.\"\n",
    "        elif self.is_context_sensitive_grammar(grammar):\n",
    "            return \"Type 1: The grammar is a context-sensitive grammar.\"\n",
    "        elif self.is_unrestricted_grammar(grammar):\n",
    "            return \"Type 0: The grammar is an unrestricted grammar.\"\n",
    "        else:\n",
    "            return \"The grammar is not recognized.\""
   ]
  },
  {
   "cell_type": "markdown",
   "id": "4e4ddda0",
   "metadata": {},
   "source": [
    "# 2b. Classifying Grammar"
   ]
  },
  {
   "cell_type": "code",
   "execution_count": 7,
   "id": "1942bd97",
   "metadata": {},
   "outputs": [
    {
     "data": {
      "text/plain": [
       "'Type 3: The grammar is a regular grammar.'"
      ]
     },
     "execution_count": 7,
     "metadata": {},
     "output_type": "execute_result"
    }
   ],
   "source": [
    "rules={\n",
    "        \"S\" : [\"aF\", \"bS\"],\n",
    "        \"F\" : [\"bF\", \"cD\", \"a\"],\n",
    "        \"D\" : [\"cS\", \"a\"]\n",
    "}\n",
    "\n",
    "gram = Grammar(rules)\n",
    "gram_class = GrammarClassifier()\n",
    "gram_class.check_grammar(gram.rules)"
   ]
  },
  {
   "cell_type": "markdown",
   "id": "ad6333c4",
   "metadata": {},
   "source": [
    "# Finite Automaton"
   ]
  },
  {
   "cell_type": "code",
   "execution_count": 68,
   "id": "a45043e5",
   "metadata": {},
   "outputs": [],
   "source": [
    "class FA:\n",
    "    def __init__(self, states, alphabet, transition_table, start_state, accept_states):\n",
    "        self.states = states\n",
    "        self.alphabet = alphabet\n",
    "        self.transition_table = transition_table\n",
    "        self.start_state = start_state\n",
    "        self.accept_states = accept_states\n",
    "\n",
    "    def accepts(self, s):\n",
    "        current_state = self.start_state\n",
    "        for c in s:\n",
    "            if c not in self.alphabet:\n",
    "                return False\n",
    "            next_states = self.transition_table[current_state][c]\n",
    "            if isinstance(next_states, list):\n",
    "                current_state = next_states[0]\n",
    "            else:\n",
    "                current_state = next_states\n",
    "        return current_state in self.accept_states\n",
    "    \n",
    "    def is_dfa(self):\n",
    "        isnfa = 0\n",
    "        for i in self.transition_table:\n",
    "            for j in self.alphabet:\n",
    "                if len(self.transition_table[i][j]) > 1:\n",
    "                    isnfa += 1\n",
    "                    break\n",
    "        if isnfa > 0:\n",
    "            return False\n",
    "        else: \n",
    "            return True\n",
    "    def epsilon_closure(self, states):\n",
    "        # Compute the epsilon closure of a set of NFA states\n",
    "        closure = set(states)\n",
    "        stack = list(states)\n",
    "        while stack:\n",
    "            state = stack.pop()\n",
    "            for next_state in self.transition_table[state].get(None, []):\n",
    "                if next_state not in closure:\n",
    "                    closure.add(next_state)\n",
    "                    stack.append(next_state)\n",
    "        return closure\n",
    "    def nfa_to_dfa(self):\n",
    "        # Start with the epsilon closure of the start state\n",
    "        start_set = self.epsilon_closure( [self.start_state])\n",
    "        dfa_states = {frozenset(start_set): 0}\n",
    "        dfa_alphabet = self.alphabet\n",
    "        dfa_transition_table = {}\n",
    "        dfa_accept_states = set()\n",
    "\n",
    "        # Queue of DFA states to process\n",
    "        unprocessed_states = [start_set]\n",
    "\n",
    "        while unprocessed_states:\n",
    "            current_set = unprocessed_states.pop(0)\n",
    "            current_state = dfa_states[frozenset(current_set)]\n",
    "\n",
    "            # Check if the current set contains an accept state\n",
    "            if any(state in self.accept_states for state in current_set):\n",
    "                dfa_accept_states.add(current_state)\n",
    "\n",
    "            # Build the transition table for the current state on each input symbol\n",
    "            for symbol in dfa_alphabet:\n",
    "                next_set = set()\n",
    "                for state in current_set:\n",
    "                    next_states = self.transition_table[state].get(symbol, [])\n",
    "                    next_set.update(self.epsilon_closure(next_states))\n",
    "\n",
    "                # Create a new DFA state for the next set if it doesn't already exist\n",
    "                if next_set and frozenset(next_set) not in dfa_states:\n",
    "                    dfa_states[frozenset(next_set)] = len(dfa_states)\n",
    "                    unprocessed_states.append(next_set)\n",
    "\n",
    "                # Add the transition from the current DFA state to the next DFA state\n",
    "                if next_set:\n",
    "                    next_state = dfa_states[frozenset(next_set)]\n",
    "                    dfa_transition_table.setdefault(current_state, {})[symbol] = next_state\n",
    "\n",
    "        # Build the DFA object\n",
    "        dfa_states = list(range(len(dfa_states)))\n",
    "        dfa_start_state = 0\n",
    "        dfa_accept_states = list(dfa_accept_states)\n",
    "        print(dfa_transition_table)\n",
    "        return FA(dfa_states, dfa_alphabet, dfa_transition_table, dfa_start_state, dfa_accept_states)\n",
    "\n",
    "    def visualize(self):\n",
    "        for i in self.transition_table:\n",
    "            for j in self.alphabet:\n",
    "#                 self.transition_table[i] = list(self.transition_table[i][j])\n",
    "                for x in self.transition_table[i][j]:\n",
    "                    print('q',i, ' ---',j,'---> ',x)"
   ]
  },
  {
   "cell_type": "code",
   "execution_count": 69,
   "id": "6f384e6d",
   "metadata": {
    "scrolled": true
   },
   "outputs": [
    {
     "name": "stdout",
     "output_type": "stream",
     "text": [
      "{0: {'a': 1, 'b': 0}, 1: {'a': 2, 'c': 1}, 2: {'a': 3}, 3: {'a': 4}, 4: {'a': 5, 'c': 1}, 5: {'a': 5, 'c': 1}}\n",
      "q 0  --- a --->  1\n",
      "q 0  --- b --->  0\n",
      "q 1  --- a --->  2\n",
      "q 1  --- c --->  1\n",
      "q 2  --- a --->  3\n",
      "q 3  --- a --->  1\n",
      "q 3  --- a --->  3\n"
     ]
    }
   ],
   "source": [
    "parser = Parser()\n",
    "states, alphabet, transition_table, start_state, accept_states = parser.parse()\n",
    "fa = FA(states, alphabet, transition_table, start_state, accept_states)\n",
    "dfa = fa.nfa_to_dfa()\n",
    "fa.visualize()\n",
    "# dfa.visualize()"
   ]
  },
  {
   "cell_type": "code",
   "execution_count": 12,
   "id": "cd890286",
   "metadata": {},
   "outputs": [
    {
     "name": "stdout",
     "output_type": "stream",
     "text": [
      "False\n"
     ]
    }
   ],
   "source": [
    "print(fa.is_dfa())"
   ]
  },
  {
   "cell_type": "markdown",
   "id": "d09c6d56",
   "metadata": {},
   "source": [
    "# Parser"
   ]
  },
  {
   "cell_type": "code",
   "execution_count": 13,
   "id": "b7ad0936",
   "metadata": {},
   "outputs": [],
   "source": [
    "class Parser:\n",
    "    def strip(self, line):\n",
    "        lhs, rhs = line.split(\"{\",1)\n",
    "        lhs, rhs = rhs.split(\"}\", 1)\n",
    "        return lhs\n",
    "    \n",
    "    def unload(self, line):\n",
    "#         state, inpt, dest\n",
    "        lhs, rhs = line.split(\"(q\", 1)\n",
    "        lhs, rhs = rhs.split(\",\",1)\n",
    "        state = int(lhs)\n",
    "        lhs, rhs = line.split(\",\",1)\n",
    "        lhs, rhs = rhs.split(\")\",1)\n",
    "        inpt = lhs\n",
    "        lhs, rhs = line.split(\"= q\", 1)\n",
    "        dest = int(rhs[0])\n",
    "        \n",
    "        return [state, inpt, dest]\n",
    "    \n",
    "    def parse(self):\n",
    "        f = open('./var.txt')\n",
    "        states = set([])\n",
    "        alphabet = []\n",
    "        accept_states = []\n",
    "        start_state = int(0)\n",
    "        line = self.strip(f.readline())\n",
    "        \n",
    "        for i in line:\n",
    "            if i.isnumeric():\n",
    "                states.add(int(i))        \n",
    "        \n",
    "        line = self.strip(f.readline())\n",
    "        for i in line:\n",
    "            if i.isalpha():\n",
    "                alphabet.append(i)\n",
    "               \n",
    "        line = self.strip(f.readline())\n",
    "        for i in line: \n",
    "            if i.isnumeric():\n",
    "                accept_states.append(int(i))\n",
    "   \n",
    "        transition_table = {}\n",
    "        transition = {}\n",
    "       \n",
    "        for j in alphabet:\n",
    "            transition[j] = set([])\n",
    "         \n",
    "        states = list(states)\n",
    "        for i in states:\n",
    "            for j in alphabet:\n",
    "                transition[j] = set([])\n",
    "            transition_table[states[i]]= dict(transition)\n",
    "        \n",
    "        for x in f:\n",
    "            line = self.unload(x)\n",
    "            state = line[0]\n",
    "            inpt = line[1]\n",
    "            dest = line[2]\n",
    "            transition_table[state][inpt].add(dest)\n",
    "           \n",
    "        return states, alphabet, transition_table, start_state, accept_states\n",
    "        \n",
    "        f.close()"
   ]
  },
  {
   "cell_type": "code",
   "execution_count": 20,
   "id": "18b15438",
   "metadata": {},
   "outputs": [
    {
     "name": "stdout",
     "output_type": "stream",
     "text": [
      "{0: {'a': {1}, 'b': {0}, 'c': set()}, 1: {'a': {2}, 'b': set(), 'c': {1}}, 2: {'a': {3}, 'b': set(), 'c': set()}, 3: {'a': {1, 3}, 'b': set(), 'c': set()}}\n"
     ]
    }
   ],
   "source": [
    "parser = Parser()\n",
    "states, alphabet, transition_table, start_state, accept_states = parser.parse()\n",
    "fa = FA(states, alphabet, transition_table, start_state, accept_states)\n",
    "print(transition_table)"
   ]
  },
  {
   "cell_type": "markdown",
   "id": "77557eca",
   "metadata": {},
   "source": [
    "# FA to Grammar Converter"
   ]
  },
  {
   "cell_type": "code",
   "execution_count": 15,
   "id": "0f0daf61",
   "metadata": {},
   "outputs": [],
   "source": [
    "class Converter:\n",
    "    def alphabet_generator(self, typ):\n",
    "        abc = []\n",
    "        if typ == 1:\n",
    "            start = ord('A')\n",
    "            end = ord('Z')\n",
    "        else:\n",
    "            start = ord('a')\n",
    "            end = ord('z')\n",
    "        i = start\n",
    "        while i != end:\n",
    "            abc.append(chr(i)) \n",
    "            i+=1\n",
    "        return abc\n",
    "            \n",
    "    \n",
    "    def fa_to_grammar(self, fa):\n",
    "        nonterminals = set()\n",
    "        state_dict= {}\n",
    "        \n",
    "        upper_abc = self.alphabet_generator(1)\n",
    "        for i in fa.states:\n",
    "            if i == 0:\n",
    "                state_dict[0] = \"S\"\n",
    "                nonterminals.add(\"S\")\n",
    "                upper_abc.remove(\"S\")\n",
    "            else:\n",
    "                addition = random.choice(upper_abc)\n",
    "                state_dict[i] = addition\n",
    "                upper_abc.remove(addition)\n",
    "                nonterminals.add(addition)\n",
    "        \n",
    "        rules = {}\n",
    "                \n",
    "        for i in fa.transition_table:\n",
    "            rules[state_dict[i]] = []\n",
    "\n",
    "            for j in fa.alphabet:\n",
    "                if len(fa.transition_table[i][j]) > 0:\n",
    "                    for x in range(len(fa.transition_table[i][j])):\n",
    "                        fa.transition_table[i][j] = list(fa.transition_table[i][j])\n",
    "                        rules[state_dict[i]].append(j + state_dict[fa.transition_table[i][j][x]]) \n",
    "        return rules"
   ]
  },
  {
   "cell_type": "code",
   "execution_count": 21,
   "id": "bbc7cd2b",
   "metadata": {},
   "outputs": [
    {
     "name": "stdout",
     "output_type": "stream",
     "text": [
      "{'S': ['aG', 'bS'], 'G': ['aA', 'cG'], 'A': ['aB'], 'B': ['aG', 'aB']}\n"
     ]
    }
   ],
   "source": [
    "fa = FA(states, alphabet, transition_table, start_state, accept_states)\n",
    "converter = Converter()\n",
    "rr = converter.fa_to_grammar(fa)\n",
    "# print(rr)\n",
    "grammar = Grammar(rr)\n",
    "print(grammar.rules)\n"
   ]
  },
  {
   "cell_type": "markdown",
   "id": "0aebbd34",
   "metadata": {},
   "source": [
    "# NFA to DFA Converter"
   ]
  },
  {
   "cell_type": "code",
   "execution_count": 23,
   "id": "85d93ead",
   "metadata": {},
   "outputs": [
    {
     "ename": "IndentationError",
     "evalue": "expected an indented block after 'if' statement on line 6 (2874343363.py, line 6)",
     "output_type": "error",
     "traceback": [
      "\u001b[1;36m  Cell \u001b[1;32mIn [23], line 6\u001b[1;36m\u001b[0m\n\u001b[1;33m    if len(fa.transition_table[i][j]) > 1:\u001b[0m\n\u001b[1;37m                                          ^\u001b[0m\n\u001b[1;31mIndentationError\u001b[0m\u001b[1;31m:\u001b[0m expected an indented block after 'if' statement on line 6\n"
     ]
    }
   ],
   "source": [
    "class NTD_Converter:\n",
    "    def nfa_to_dfa(self, fa):\n",
    "        for i in fa.transition_table:\n",
    "            print (fa.transition_table[i])\n",
    "            for j in fa.alphabet:\n",
    "                if len(fa.transition_table[i][j]) > 1:\n",
    "                    "
   ]
  },
  {
   "cell_type": "code",
   "execution_count": 22,
   "id": "2f4f1978",
   "metadata": {},
   "outputs": [
    {
     "name": "stdout",
     "output_type": "stream",
     "text": [
      "{'a': [1], 'b': [0], 'c': set()}\n",
      "{'a': [2], 'b': set(), 'c': [1]}\n",
      "{'a': [3], 'b': set(), 'c': set()}\n",
      "{'a': [1, 3], 'b': set(), 'c': set()}\n"
     ]
    }
   ],
   "source": [
    "ntd = NTD_Converter()\n",
    "ntd.nfa_to_dfa(fa)"
   ]
  },
  {
   "cell_type": "markdown",
   "id": "f1d8969a",
   "metadata": {},
   "source": [
    "# Lab 1"
   ]
  },
  {
   "cell_type": "code",
   "execution_count": 18,
   "id": "e1cb099a",
   "metadata": {
    "scrolled": true
   },
   "outputs": [
    {
     "name": "stdout",
     "output_type": "stream",
     "text": [
      "baca\n",
      "True\n"
     ]
    }
   ],
   "source": [
    "rules={\n",
    "        \"S\" : [\"aF\", \"bS\"],\n",
    "        \"F\" : [\"bF\", \"cD\", \"a\"],\n",
    "        \"D\" : [\"cS\", \"a\"]\n",
    "}\n",
    "gram = Grammar(rules)\n",
    "sas = gram.generate_string()\n",
    "print(sas)\n",
    "\n",
    "states = {-1, 0, 1, 2, 3}\n",
    "alphabet = {'a', 'b', 'c'}\n",
    "transition_table = {\n",
    "    -1: {'a' : [-1], 'b' : [-1], 'c' : [-1]},\n",
    "    0: {'a': [1], 'b': [0], 'c' :[-1]},\n",
    "    1: {'a': [3], 'b': [1], 'c' : [2]},\n",
    "    2: {'a': [3], 'b': [-1], 'c': [0]},\n",
    "    3: {'a': [-1], 'b' : [-1], 'c' : [-1]}\n",
    "}\n",
    "start_state = int(0)\n",
    "accept_states = {3}\n",
    "\n",
    "fa = FA(states, alphabet, transition_table, start_state, accept_states)\n",
    "print(fa.accepts(sas))"
   ]
  },
  {
   "cell_type": "markdown",
   "id": "cc2a06cd",
   "metadata": {},
   "source": [
    "Q = {q0,q1,q2,q3}, <br>\n",
    "∑ = {a,b,c},<br>\n",
    "F = {q2},<br>\n",
    "δ(q0,b) = q0,<br>\n",
    "δ(q0,a) = q1,<br>\n",
    "δ(q1,c) = q1,<br>\n",
    "δ(q1,a) = q2,<br>\n",
    "δ(q3,a) = q1,<br>\n",
    "δ(q3,a) = q3,<br>\n",
    "δ(q2,a) = q3.<br>"
   ]
  }
 ],
 "metadata": {
  "kernelspec": {
   "display_name": "Python 3 (ipykernel)",
   "language": "python",
   "name": "python3"
  },
  "language_info": {
   "codemirror_mode": {
    "name": "ipython",
    "version": 3
   },
   "file_extension": ".py",
   "mimetype": "text/x-python",
   "name": "python",
   "nbconvert_exporter": "python",
   "pygments_lexer": "ipython3",
   "version": "3.10.0"
  }
 },
 "nbformat": 4,
 "nbformat_minor": 5
}
